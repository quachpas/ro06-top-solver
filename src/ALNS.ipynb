{
 "cells": [
  {
   "cell_type": "markdown",
   "id": "f65fa03f-301e-4708-a018-112364fb1008",
   "metadata": {},
   "source": [
    "# Augmented Large Neighbourhood Search\n",
    "\n",
    "## Pseudo-Code\n",
    "\n",
    "Parameters:\n",
    "- Max iterations $I_\\max$\n",
    "- Number of solutions $N$\n",
    "\n",
    "1. Construct an initial solution $s^*$ (**Algorithm 1**)\n",
    "2. Add $s^*$ to the solution pool $S$ \n",
    "3. Until $I_\\max$\n",
    "    1. Destroy routes (**Algorithm 2**)\n",
    "    2. Repair routes (**Algorithm 3**)\n",
    "    3. Insert maximum number of unrouted stops (**Algorithm 4**)\n",
    "    4. Improve the solution until no further improvement (**Algorithm 5**)\n",
    "    5. (Terminate if the solution is the upper bound, for existing optimal solutions) \n",
    "    6. Update the best solution $S^*$ if there is improvement\n",
    "    7. Replace the worst solution $S$ if\n",
    "        1. The current solution is not in the pool\n",
    "        2. The pool is full\n",
    "        3. The pool's worst solution is worse than the current solution\n",
    "    8. Insert the new solution in $S$ if\n",
    "        1. $S$ is not full\n",
    "        2. The current solution is not in $S$"
   ]
  },
  {
   "cell_type": "markdown",
   "id": "f5e7517d-32fa-4018-befe-d50edda3b508",
   "metadata": {},
   "source": [
    "# Algorithm A: Local Search Method"
   ]
  },
  {
   "cell_type": "markdown",
   "id": "1527a6e5-e731-4f43-8942-a6ac18f0b58f",
   "metadata": {},
   "source": [
    "# Algorithm B: Shifting Method"
   ]
  },
  {
   "cell_type": "markdown",
   "id": "59b89d6e-27ca-4fd8-9264-6f9c2321315c",
   "metadata": {},
   "source": [
    "# Algorithm C: Replacement Method"
   ]
  },
  {
   "cell_type": "markdown",
   "id": "de1df776-627a-42a1-bdeb-1882e32861b5",
   "metadata": {},
   "source": [
    "# Algorithm 1: Solution construction"
   ]
  },
  {
   "cell_type": "markdown",
   "id": "a9fdf434-cb95-421b-b5d3-06d9622933c0",
   "metadata": {},
   "source": [
    "# Algorithm 2: Destroy routes"
   ]
  },
  {
   "cell_type": "markdown",
   "id": "0951a315-d00a-43f7-9c19-303abd98701b",
   "metadata": {},
   "source": [
    "# Algorithm 3: Repair routes"
   ]
  },
  {
   "cell_type": "markdown",
   "id": "090c4193-25ad-4d5c-accf-603ad75ce890",
   "metadata": {},
   "source": [
    "# Algorithm 4: Maximum re-insertion\n",
    "> In the insertion method, each unrouted stop is tested to be inserted into a route and the unrouted feasible stop that has the smallest distance increase due to the stop insertion is iteratively selected and inserted. The insertion procedure is repeated until no additional stops can be inserted to any of the routes."
   ]
  },
  {
   "cell_type": "markdown",
   "id": "2b4e2a1f-37c9-4097-b8b6-966263b46b58",
   "metadata": {},
   "source": [
    "# Algorithm 5: Maximum improvement"
   ]
  },
  {
   "cell_type": "code",
   "execution_count": null,
   "id": "869d6d44-ed73-42dd-afa5-31be226e3c05",
   "metadata": {},
   "outputs": [],
   "source": []
  }
 ],
 "metadata": {
  "kernelspec": {
   "display_name": "Python 3 (ipykernel)",
   "language": "python",
   "name": "python3"
  },
  "language_info": {
   "codemirror_mode": {
    "name": "ipython",
    "version": 3
   },
   "file_extension": ".py",
   "mimetype": "text/x-python",
   "name": "python",
   "nbconvert_exporter": "python",
   "pygments_lexer": "ipython3",
   "version": "3.10.8"
  }
 },
 "nbformat": 4,
 "nbformat_minor": 5
}
