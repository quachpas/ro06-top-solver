{
 "cells": [
  {
   "cell_type": "markdown",
   "id": "f65fa03f-301e-4708-a018-112364fb1008",
   "metadata": {},
   "source": [
    "# Augmented Large Neighbourhood Search\n",
    "\n",
    "## Pseudo-Code\n",
    "\n",
    "Parameters:\n",
    "- Max iterations $I_\\max$\n",
    "- Number of solutions $N$\n",
    "\n",
    "1. Construct an initial solution $s^*$ (**Algorithm 1**)\n",
    "2. Add $s^*$ to the solution pool $S$ \n",
    "3. Until $I_\\max$\n",
    "    1. Destroy routes (**Algorithm 2**)\n",
    "    2. Repair routes (**Algorithm 3**)\n",
    "    3. Insert maximum number of unrouted stops (**Algorithm 4**)\n",
    "    4. Improve the solution until no further improvement (**Algorithm 5**)\n",
    "    5. (Terminate if the solution is the upper bound, for existing optimal solutions) (**Algorithm D**)\n",
    "    6. Update the best solution $S^*$ if there is improvement\n",
    "    7. Replace the worst solution $S$ if\n",
    "        1. The current solution is not in the pool\n",
    "        2. The pool is full\n",
    "        3. The pool's worst solution is worse than the current solution\n",
    "    8. Insert the new solution in $S$ if\n",
    "        1. $S$ is not full\n",
    "        2. The current solution is not in $S$"
   ]
  },
  {
   "cell_type": "markdown",
   "id": "f5e7517d-32fa-4018-befe-d50edda3b508",
   "metadata": {},
   "source": [
    "# Algorithm A: Local Search Improvement\n",
    "> [The algorithm] consists of popular inter-route and intraroute improvement methods. In the 1-1 improvement method, a stop from a route is exchanged with a stop from another route. The exchange is accepted if it is feasible for both routes and the total travel distance of the two routes is reduced. In the 1-0 improvement method, a stop from a route is moved into another route and improvement is tested. Similarly, the 2-1 improvement method exchanges two stops from a route with one stop from another route. The intra-route improvement algorithm consists of well-known 2opt edge exchange method and Or-opt improvement method (Or, 1976). The improvement methods repeat until no further improvement is possible."
   ]
  },
  {
   "cell_type": "markdown",
   "id": "d6848f58-d4dd-47b8-aa02-1affb7e5b17e",
   "metadata": {},
   "source": [
    "# Algorithm B: Insertion Method\n",
    "> In the insertion method, each unrouted stop is tested to be inserted into a route and the unrouted feasible stop that has the smallest distance increase due to the stop insertion is iteratively selected and inserted. The insertion procedure is repeated until no additional stops can be inserted to any of the routes"
   ]
  },
  {
   "cell_type": "markdown",
   "id": "1527a6e5-e731-4f43-8942-a6ac18f0b58f",
   "metadata": {},
   "source": [
    "# Algorithm C: Shifting and Insertion Method\n",
    "> [A]ttempts are made to move stops from a route into other routes to make room for unrouted stops. [...] [A]ll possible unrouted stops are inserted into a route; [Then, the algorithm attempts to add as many unrouted stops as possible to the route]."
   ]
  },
  {
   "cell_type": "markdown",
   "id": "59b89d6e-27ca-4fd8-9264-6f9c2321315c",
   "metadata": {},
   "source": [
    "# Algorithm D1: Random Replacement Method\n",
    "> The algorithm exchanges routed stops with unrouted stops to improve the solution’s total reward value. [...] [A] random number is generated for each iteration and this number determines the number of stops that will be removed from the route. [...] [The] stops to be deleted are selected randomly and their total rewards are compared with the total rewards of all unrouted stops. [...] [If] the value of the unrouted stops is less than the value of the deleted stops, that iteration will be skipped because there is no potential benefit to the exchange. Otherwise [...] the selected stops are deleted from the route and unrouted stops are randomly inserted. In this step, each unrouted stop is tested to determine if the insertion is feasible. [...] [If] the total rewards of the newly inserted stops are larger than the total rewards of the deleted stops, the replacement for the route will be accepted and the next route will be tested. The above procedures repeat for $R_\\max$ iterations for each route."
   ]
  },
  {
   "cell_type": "markdown",
   "id": "70f623d5-4fee-4e0c-bdd9-c8a7bdea0aee",
   "metadata": {},
   "source": [
    "# Algorithm D2: Full-Enumeration Replacement Method\n",
    "> Instead of randomly selecting $d_r$ routed stops and randomly replacing current stops, the full-enumeration replacement algorithm tests all routed stops for a 1-1 replacement and then a 1-2 replacement. The 1-1 replacement exchanges a routed stop with an unrouted stop and repeats until there is no improvement. Then 1-2 replacement is tested checking the replacement of a routed stop with two unrouted stops. The replacement is executed when the solution rewards are increased or the route travel time is decreased without rewards loses."
   ]
  },
  {
   "cell_type": "markdown",
   "id": "a3a28513-6691-436d-a649-1e3242583da7",
   "metadata": {},
   "source": [
    "# Algorithm E: Known upper bound termination\n",
    "> [The] algorithm terminates if the improved solution is the upper bound, where the upper bound terminate condition is applied for those instances in which the exact optimal solutions are reported by Boussier, Feillet, and Gendreau (2007). [...] Note that Dang et al. (2011) also used the same upper bound terminate condition."
   ]
  },
  {
   "cell_type": "markdown",
   "id": "de1df776-627a-42a1-bdeb-1882e32861b5",
   "metadata": {},
   "source": [
    "# Algorithm 1: Greedy Construction\n",
    "> From the current stop, $c_L$, the feasible stop that has the smallest distance divided by reward is selected as the next stop. The procedure repeats until no more stops can be added to the route. [...] When there is improvement, i.e., the total route travel distance is reduced, additional stops are inserted. [...] [T]he algorithm attempts to add as many unrouted stops as possible to the route [...]."
   ]
  },
  {
   "cell_type": "markdown",
   "id": "a9fdf434-cb95-421b-b5d3-06d9622933c0",
   "metadata": {},
   "source": [
    "# Algorithm 2: Destroy routes\n",
    "> [...] $k$ stops are removed from the selected solution according to the remove criterion. Three remove criterions are designed for solution diversification: random remove, biggest remove and smallest remove. In the random remove, $k$ stops will be randomly selected and removed from the current solution. The biggest remove will remove the $k$ stops which have the biggest rewards and the $k$ smallest rewards stops will be removed under the smallest remove criterion similarly. The three remove criterions are randomly selected in each iteration."
   ]
  },
  {
   "cell_type": "markdown",
   "id": "0951a315-d00a-43f7-9c19-303abd98701b",
   "metadata": {},
   "source": [
    "# Algorithm 3: Repair routes\n",
    "> [...] [The] solution with stops removed is repaired via two improvement methods until there are no more improvements [...].\n",
    "\n",
    "The algorithms mentionned are the Local Search Improvement (A) and Shifting and Insertion methods (C)"
   ]
  },
  {
   "cell_type": "markdown",
   "id": "090c4193-25ad-4d5c-accf-603ad75ce890",
   "metadata": {},
   "source": [
    "# Algorithm 4: Maximum re-insertion\n",
    "> In the insertion method, each unrouted stop is tested to be inserted into a route and the unrouted feasible stop that has the smallest distance increase due to the stop insertion is iteratively selected and inserted. The insertion procedure is repeated until no additional stops can be inserted to any of the routes."
   ]
  },
  {
   "cell_type": "markdown",
   "id": "2b4e2a1f-37c9-4097-b8b6-966263b46b58",
   "metadata": {},
   "source": [
    "# Algorithm 5: Maximum improvement\n",
    "> [The] updated solution is further improved not only by the previous two improvement methods, but also with two replacement method [...].\n",
    "\n",
    "The two replacement methods are the Random Replacement (D1) and the Full-Enumeration Replacement (D2) methods."
   ]
  }
 ],
 "metadata": {
  "kernelspec": {
   "display_name": "Python 3 (ipykernel)",
   "language": "python",
   "name": "python3"
  },
  "language_info": {
   "codemirror_mode": {
    "name": "ipython",
    "version": 3
   },
   "file_extension": ".py",
   "mimetype": "text/x-python",
   "name": "python",
   "nbconvert_exporter": "python",
   "pygments_lexer": "ipython3",
   "version": "3.10.8"
  }
 },
 "nbformat": 4,
 "nbformat_minor": 5
}
