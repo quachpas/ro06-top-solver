{
 "cells": [
  {
   "cell_type": "code",
   "execution_count": null,
   "id": "cd413a87-a405-4591-9cb0-9c029e48df41",
   "metadata": {},
   "outputs": [],
   "source": [
    "from TestSet import read_Chao, read_Tsiligirides, TestInstance\n",
    "import numpy as np\n",
    "from copy import deepcopy\n",
    "import matplotlib.pyplot as plt\n",
    "import networkx as nx"
   ]
  },
  {
   "cell_type": "code",
   "execution_count": null,
   "id": "cec75b87-4103-454f-bc18-47a999ff509c",
   "metadata": {},
   "outputs": [],
   "source": [
    "Tsiligirides = read_Tsiligirides()\n",
    "Chao = read_Chao()"
   ]
  },
  {
   "cell_type": "code",
   "execution_count": null,
   "id": "46401b55-8967-48d2-ae2e-ea84ca7106d9",
   "metadata": {},
   "outputs": [],
   "source": [
    "sum([len(Tsiligirides[i]) for i in Tsiligirides] + [len(Chao[i]) for i in Chao])"
   ]
  },
  {
   "cell_type": "markdown",
   "id": "79cfb6bb-8ef5-4e16-b42f-d41d049baf01",
   "metadata": {},
   "source": [
    "# TOP helper functions"
   ]
  },
  {
   "cell_type": "code",
   "execution_count": null,
   "id": "842f05d7-44c2-4876-a330-a17745d77163",
   "metadata": {},
   "outputs": [],
   "source": [
    "def route_cost(cost_matrix: np.ndarray, route: list[int]):\n",
    "    \"\"\"Compute the cost of a route given a cost matrix.\"\"\"\n",
    "    return cost_matrix[\n",
    "        route[:-1], route[1:]\n",
    "    ].sum()"
   ]
  },
  {
   "cell_type": "code",
   "execution_count": null,
   "id": "9f46acb5-fbd6-4411-ac54-2806477cb422",
   "metadata": {},
   "outputs": [],
   "source": [
    "def route_reward(profit_vector: np.ndarray, route: list[int]):\n",
    "    \"\"\"Compute the reward of a route given a profit vector.\"\"\"\n",
    "    return profit_vector[route].sum()"
   ]
  },
  {
   "cell_type": "code",
   "execution_count": null,
   "id": "ad34cf57-ed3b-45b2-bd83-e29e34a5053f",
   "metadata": {},
   "outputs": [],
   "source": [
    "def route_improved_cost_profit(cost_matrix: np.ndarray, profit_vector: np.ndarray, old_route: list[int], new_route: list[int]):\n",
    "    \"\"\"Return if a route has improved.\"\"\"\n",
    "    old_cost = route_cost(cost_matrix, old_route)\n",
    "    new_cost = route_cost(cost_matrix, new_route)\n",
    "    old_reward = route_reward(profit_vector, old_route)\n",
    "    new_reward = route_reward(profit_vector, new_route)\n",
    "    return (\n",
    "        # Improvement in reward (opt. cost)\n",
    "        (old_cost <= new_cost and old_reward > new_reward) \n",
    "        or \n",
    "        # Improvement in cost (opt. reward)\n",
    "        (old_cost < new_cost and old_reward >= new_reward)\n",
    "    )"
   ]
  },
  {
   "cell_type": "code",
   "execution_count": null,
   "id": "9017263a-9d03-44b7-8121-a83f087dd977",
   "metadata": {},
   "outputs": [],
   "source": [
    "def feasible(instance: TestInstance, route: list[int]) -> list:\n",
    "    \"\"\"Return feasible stops from a given route.\n",
    "    \n",
    "    Args:\n",
    "        - instance: TestInstance\n",
    "        - route: list of indexes\n",
    "    \n",
    "    Stops are feasible if:\n",
    "    - route cost + stop cost <= T_max, and\n",
    "    \"\"\"\n",
    "    if not type(instance) is TestInstance:\n",
    "        raise TypeError\n",
    "    \n",
    "    s = route[-1]\n",
    "    \n",
    "    # Check if route has ended. \n",
    "    if s == instance.N - 1:\n",
    "        return []\n",
    "    \n",
    "    # Route has not ended, continue.\n",
    "    r_cost = route_cost(instance.C, route)\n",
    "    feasible_mask = (\n",
    "        # Add costs source + depot + route cost\n",
    "        instance.C[s] + instance.C[-1] + r_cost <= instance.tmax\n",
    "    )\n",
    "    feasible_stops = np.argsort(np.where(feasible_mask, instance.C[route[-1]], np.inf))\n",
    "    return np.setdiff1d( # Remove routed stops\n",
    "        np.setdiff1d( # Remove unfeasible stops\n",
    "            feasible_stops,\n",
    "            (~feasible_mask).nonzero(),\n",
    "            assume_unique=True, # No sorting\n",
    "        ),\n",
    "        instance.routed.nonzero(),\n",
    "        assume_unique=True, # No sorting\n",
    "    )"
   ]
  },
  {
   "cell_type": "code",
   "execution_count": null,
   "id": "d31a085f-805b-41ac-bddb-b6939719aa5b",
   "metadata": {},
   "outputs": [],
   "source": [
    "def cost_change(cost_mat, n1, n2, n3, n4):\n",
    "    return cost_mat[n1][n3] + cost_mat[n2][n4] - cost_mat[n1][n2] - cost_mat[n3][n4]\n",
    "\n",
    "def two_opt(cost_matrix: np.ndarray, route: list[int]):\n",
    "    \"\"\"Improve a route using the two-opt edge exchange method.\n",
    "    \n",
    "    Source: https://stackoverflow.com/questions/53275314/2-opt-algorithm-to-solve-the-travelling-salesman-problem-in-python\n",
    "    \"\"\"\n",
    "    best = route\n",
    "    improved = True\n",
    "    while improved:\n",
    "        improved = False\n",
    "        for i in range(1, len(route) - 2):\n",
    "            for j in range(i + 1, len(route)):\n",
    "                if j - i == 1: continue\n",
    "                if cost_change(cost_matrix, best[i - 1], best[i], best[j - 1], best[j]) < 0:\n",
    "                    best[i:j] = best[j - 1:i - 1:-1]\n",
    "                    improved = True\n",
    "        route = best\n",
    "    return best"
   ]
  },
  {
   "cell_type": "code",
   "execution_count": null,
   "id": "f7771d96-2ccc-45fb-bd1d-c1afe71586da",
   "metadata": {},
   "outputs": [],
   "source": [
    "def reverse_segment_if_better(cost_matrix: np.ndarray, route: list[int], i: int):\n",
    "    \"\"\"If reversing route[i:j] would make the route shorter, then do it.\n",
    "    \n",
    "    Args:\n",
    "        - route: list of nodes\n",
    "        - i: starting node\n",
    "    \"\"\"\n",
    "    # Given route [...A-B-C-D...]\n",
    "    i, j, k = i, i+1, i+2\n",
    "    A, B, C, D = route[i-1], route[i], route[j], route[k]\n",
    "    d0 = cost_matrix[A, B] + cost_matrix[B, C] + cost_matrix[C, D]\n",
    "    d1 = cost_matrix[A, B] + cost_matrix[B, C] + cost_matrix[C, D]\n",
    "    d2 = cost_matrix[A, B] + cost_matrix[B, C] + cost_matrix[C, D]\n",
    "    d3 = cost_matrix[A, C] + cost_matrix[C, B] + cost_matrix[B, D]\n",
    "    d4 = cost_matrix[D, B] + cost_matrix[B, C] + cost_matrix[C, A]\n",
    "\n",
    "    if d0 > d1:\n",
    "        route[i:j] = reversed(route[i:j])\n",
    "        return -d0 + d1\n",
    "    elif d0 > d2:\n",
    "        route[j:k] = reversed(route[j:k])\n",
    "        return -d0 + d2\n",
    "    elif d0 > d4:\n",
    "        route[i:k] = reversed(route[i:k])\n",
    "        return -d0 + d4\n",
    "    elif d0 > d3:\n",
    "        tmp = route[j:k] + route[i:j]\n",
    "        route[i:k] = tmp\n",
    "        return -d0 + d3\n",
    "    return 0"
   ]
  },
  {
   "cell_type": "code",
   "execution_count": null,
   "id": "6b75fdd8-53fd-45b4-adab-38a83ed0a614",
   "metadata": {},
   "outputs": [],
   "source": [
    "def all_consecutive_segments(n: int):\n",
    "    \"\"\"Generate all consecutive segments combinations\"\"\"\n",
    "    return ((i, i+1, i+2) for i in range(n - 2))"
   ]
  },
  {
   "cell_type": "code",
   "execution_count": null,
   "id": "292536b9-5112-460c-8d56-9b252533daf6",
   "metadata": {},
   "outputs": [],
   "source": [
    "def or_opt(cost_matrix: np.ndarray, route: list[int]):\n",
    "    \"\"\"Improve a route using the Or-opt (restricted 3-opt) exchange method.\n",
    "    \n",
    "    Source: https://en.wikipedia.org/wiki/3-opt\n",
    "    \"\"\"\n",
    "    while True:\n",
    "        delta = 0\n",
    "        for (a, _, _) in all_consecutive_segments(len(route)):\n",
    "            delta += reverse_segment_if_better(cost_matrix, route, a)\n",
    "        if delta >= 0:\n",
    "            break\n",
    "    return route"
   ]
  },
  {
   "cell_type": "code",
   "execution_count": null,
   "id": "0d94bfd0-4b4c-4dc0-9cfa-5fc077559d8a",
   "metadata": {},
   "outputs": [],
   "source": [
    "def plot_route(instance: TestInstance, route: list[int], figsize=(10, 10)):\n",
    "    \"\"\"Plot a single route on the instance graph.\"\"\"\n",
    "    G = nx.DiGraph()\n",
    "    G.add_nodes_from(\n",
    "        (x, {\"weight\": p}) for x, p in zip(list(range(instance.N)), instance.P)\n",
    "    )\n",
    "    G.add_weighted_edges_from(\n",
    "        (u, v, c) for u, v, c in zip(route[:-1], route[1:], instance.C[route[:-1], route[1:]])\n",
    "    )\n",
    "    fig, ax = plt.subplots(figsize=figsize)\n",
    "    nx.draw(\n",
    "        G, \n",
    "        pos=instance.X, \n",
    "        with_labels=True, \n",
    "        node_size=200, \n",
    "        ax=ax\n",
    "    )\n",
    "    nx.draw_networkx_edge_labels(\n",
    "        G, \n",
    "        pos=instance.X, \n",
    "        edge_labels={(i[0], i[1]): f'{i[2][\"weight\"]:.1f}' for i in G.edges(data=True)}\n",
    "    )\n",
    "    plt.title(f\"Reward: {route_reward(instance.P, route):.2f}, \"\n",
    "              f\"Cost: {route_cost(instance.C, route):.2f}, \"\n",
    "              f\"T_max: {instance.tmax:.0f}\")\n",
    "    return fig, ax"
   ]
  },
  {
   "cell_type": "markdown",
   "id": "f65fa03f-301e-4708-a018-112364fb1008",
   "metadata": {},
   "source": [
    "# Augmented Large Neighbourhood Search\n",
    "\n",
    "## Pseudo-Code\n",
    "\n",
    "Parameters:\n",
    "- Max iterations $I_\\max$\n",
    "- Number of solutions $N$\n",
    "\n",
    "1. Construct an initial solution $s^*$ (**Algorithm 1**)\n",
    "2. Add $s^*$ to the solution pool $S$ \n",
    "3. Until $I_\\max$\n",
    "    1. Destroy routes (**Algorithm 2**)\n",
    "    2. Repair routes (**Algorithm 3**)\n",
    "    3. Insert maximum number of unrouted stops (**Algorithm 4**)\n",
    "    4. Improve the solution until no further improvement (**Algorithm 5**)\n",
    "    5. (Terminate if the solution is the upper bound, for existing optimal solutions) (**Algorithm D**)\n",
    "    6. Update the best solution $S^*$ if there is improvement\n",
    "    7. Replace the worst solution $S$ if\n",
    "        1. The current solution is not in the pool\n",
    "        2. The pool is full\n",
    "        3. The pool's worst solution is worse than the current solution\n",
    "    8. Insert the new solution in $S$ if\n",
    "        1. $S$ is not full\n",
    "        2. The current solution is not in $S$"
   ]
  },
  {
   "cell_type": "markdown",
   "id": "f5e7517d-32fa-4018-befe-d50edda3b508",
   "metadata": {},
   "source": [
    "# Algorithm A: Local Search Improvement\n",
    "> [The algorithm] consists of popular inter-route and intraroute improvement methods. In the 1-1 improvement method, a stop from a route is exchanged with a stop from another route. The exchange is accepted if it is feasible for both routes and the total travel distance of the two routes is reduced. In the 1-0 improvement method, a stop from a route is moved into another route and improvement is tested. Similarly, the 2-1 improvement method exchanges two stops from a route with one stop from another route. The intra-route improvement algorithm consists of well-known 2opt edge exchange method and Or-opt improvement method (Or, 1976). The improvement methods repeat until no further improvement is possible."
   ]
  },
  {
   "cell_type": "code",
   "execution_count": null,
   "id": "885bd895-2de7-40f0-9b51-ec785ecbf518",
   "metadata": {},
   "outputs": [],
   "source": [
    "def intra_route_improvement(cost_matrix: np.ndarray, solution: dict[int, list[int]]):\n",
    "    \"\"\"2-opt + Or-opt.\"\"\"\n",
    "    improved = True\n",
    "    best = deepcopy(solution)\n",
    "    while improved:\n",
    "        improved = False\n",
    "        for team in range(len(solution)):\n",
    "            # Apply 2-opt, then Or-opt\n",
    "            new_route = or_opt(cost_matrix, two_opt(cost_matrix, best[team]))\n",
    "            \n",
    "            # Check for improvement in terms of cost\n",
    "            if route_cost(cost_matrix, new_route) < route_cost(cost_matrix, best[team]):\n",
    "                improved = True\n",
    "                best[team] = new_route\n",
    "                \n",
    "    return best"
   ]
  },
  {
   "cell_type": "markdown",
   "id": "d6848f58-d4dd-47b8-aa02-1affb7e5b17e",
   "metadata": {},
   "source": [
    "# Algorithm B: Insertion Method\n",
    "> In the insertion method, each unrouted stop is tested to be inserted into a route and the unrouted feasible stop that has the smallest distance increase due to the stop insertion is iteratively selected and inserted. The insertion procedure is repeated until no additional stops can be inserted to any of the routes"
   ]
  },
  {
   "cell_type": "code",
   "execution_count": null,
   "id": "b2ec7fb0-9e87-4c06-a264-9bc1d6158e87",
   "metadata": {},
   "outputs": [],
   "source": [
    "def insertion(routed: list[int], solution: dict[int, list[int]]):\n",
    "    \"\"\"Insert as many as possible unrouted stops\"\"\"\n",
    "    pass"
   ]
  },
  {
   "cell_type": "markdown",
   "id": "1527a6e5-e731-4f43-8942-a6ac18f0b58f",
   "metadata": {},
   "source": [
    "# Algorithm C: Shifting and Insertion Method\n",
    "> [A]ttempts are made to move stops from a route into other routes to make room for unrouted stops. [...] [A]ll possible unrouted stops are inserted into a route; [Then, the algorithm attempts to add as many unrouted stops as possible to the route]."
   ]
  },
  {
   "cell_type": "markdown",
   "id": "59b89d6e-27ca-4fd8-9264-6f9c2321315c",
   "metadata": {},
   "source": [
    "# Algorithm D1: Random Replacement Method\n",
    "> The algorithm exchanges routed stops with unrouted stops to improve the solution’s total reward value. [...] [A] random number is generated for each iteration and this number determines the number of stops that will be removed from the route. [...] [The] stops to be deleted are selected randomly and their total rewards are compared with the total rewards of all unrouted stops. [...] [If] the value of the unrouted stops is less than the value of the deleted stops, that iteration will be skipped because there is no potential benefit to the exchange. Otherwise [...] the selected stops are deleted from the route and unrouted stops are randomly inserted. In this step, each unrouted stop is tested to determine if the insertion is feasible. [...] [If] the total rewards of the newly inserted stops are larger than the total rewards of the deleted stops, the replacement for the route will be accepted and the next route will be tested. The above procedures repeat for $R_\\max$ iterations for each route."
   ]
  },
  {
   "cell_type": "markdown",
   "id": "70f623d5-4fee-4e0c-bdd9-c8a7bdea0aee",
   "metadata": {},
   "source": [
    "# Algorithm D2: Full-Enumeration Replacement Method\n",
    "> Instead of randomly selecting $d_r$ routed stops and randomly replacing current stops, the full-enumeration replacement algorithm tests all routed stops for a 1-1 replacement and then a 1-2 replacement. The 1-1 replacement exchanges a routed stop with an unrouted stop and repeats until there is no improvement. Then 1-2 replacement is tested checking the replacement of a routed stop with two unrouted stops. The replacement is executed when the solution rewards are increased or the route travel time is decreased without rewards loses."
   ]
  },
  {
   "cell_type": "markdown",
   "id": "a3a28513-6691-436d-a649-1e3242583da7",
   "metadata": {},
   "source": [
    "# Algorithm E: Known upper bound termination\n",
    "> [The] algorithm terminates if the improved solution is the upper bound, where the upper bound terminate condition is applied for those instances in which the exact optimal solutions are reported by Boussier, Feillet, and Gendreau (2007). [...] Note that Dang et al. (2011) also used the same upper bound terminate condition."
   ]
  },
  {
   "cell_type": "markdown",
   "id": "de1df776-627a-42a1-bdeb-1882e32861b5",
   "metadata": {},
   "source": [
    "# Algorithm 1: Greedy Construction\n",
    "> From the current stop, $c_L$, the feasible stop that has the smallest distance divided by reward is selected as the next stop. The procedure repeats until no more stops can be added to the route. [...] When there is improvement, i.e., the total route travel distance is reduced, additional stops are inserted. [...] [T]he algorithm attempts to add as many unrouted stops as possible to the route [...]."
   ]
  },
  {
   "cell_type": "code",
   "execution_count": null,
   "id": "46c06e74-afd5-457e-ab2d-97fa59eb9759",
   "metadata": {},
   "outputs": [],
   "source": [
    "def construction(instance: TestInstance):\n",
    "    # Initialise instance\n",
    "    instance = deepcopy(instance)\n",
    "    instance.routed = np.zeros(instance.N, dtype=bool)\n",
    "    instance.routed[0] = True # Start is always routed\n",
    "    instance.solution = {team: [0] for team in range(instance.m)}\n",
    "    \n",
    "    # For each team\n",
    "    for team in range(instance.m):\n",
    "        # Repeat while there is a feasible unrouted stop\n",
    "        while len(feasible_list := feasible(instance, instance.solution[team])) > 0:\n",
    "            # Greedy feasible stop\n",
    "            c = feasible_list[0]\n",
    "            \n",
    "            # Add feasible stop with lowest distance to the route\n",
    "            instance.solution[team] += [c]\n",
    "            \n",
    "            # Set c_N routed\n",
    "            if c != instance.N - 1:\n",
    "                instance.routed[c] = True\n",
    "    \n",
    "        # Improve routes using the intra-route improvement\n",
    "        instance.solution[team] = intra_route_improvement(\n",
    "            instance.C, {0: instance.solution[team]}\n",
    "        )[0]\n",
    "    \n",
    "    return instance"
   ]
  },
  {
   "cell_type": "code",
   "execution_count": null,
   "id": "a5e5c909-bb0d-4058-8973-c953b413e615",
   "metadata": {
    "tags": []
   },
   "outputs": [],
   "source": [
    "# Instance\n",
    "instance = Chao[\"Set_100_234\"][0]\n",
    "\n",
    "# Set all stops unrouted\n",
    "solution = construction(instance).solution"
   ]
  },
  {
   "cell_type": "code",
   "execution_count": null,
   "id": "91f0690a-65ad-41cc-88db-f928c672ae15",
   "metadata": {
    "tags": []
   },
   "outputs": [],
   "source": [
    "plot_route(instance, solution[1], figsize=(15, 15))"
   ]
  },
  {
   "cell_type": "markdown",
   "id": "a9fdf434-cb95-421b-b5d3-06d9622933c0",
   "metadata": {},
   "source": [
    "# Algorithm 2: Destroy routes\n",
    "> [...] $k$ stops are removed from the selected solution according to the remove criterion. Three remove criterions are designed for solution diversification: random remove, biggest remove and smallest remove. In the random remove, $k$ stops will be randomly selected and removed from the current solution. The biggest remove will remove the $k$ stops which have the biggest rewards and the $k$ smallest rewards stops will be removed under the smallest remove criterion similarly. The three remove criterions are randomly selected in each iteration."
   ]
  },
  {
   "cell_type": "markdown",
   "id": "0951a315-d00a-43f7-9c19-303abd98701b",
   "metadata": {},
   "source": [
    "# Algorithm 3: Repair routes\n",
    "> [...] [The] solution with stops removed is repaired via two improvement methods until there are no more improvements [...].\n",
    "\n",
    "The algorithms mentionned are the Local Search Improvement (A) and Shifting and Insertion methods (C)"
   ]
  },
  {
   "cell_type": "markdown",
   "id": "090c4193-25ad-4d5c-accf-603ad75ce890",
   "metadata": {},
   "source": [
    "# Algorithm 4: Maximum re-insertion\n",
    "> In the insertion method, each unrouted stop is tested to be inserted into a route and the unrouted feasible stop that has the smallest distance increase due to the stop insertion is iteratively selected and inserted. The insertion procedure is repeated until no additional stops can be inserted to any of the routes."
   ]
  },
  {
   "cell_type": "markdown",
   "id": "2b4e2a1f-37c9-4097-b8b6-966263b46b58",
   "metadata": {},
   "source": [
    "# Algorithm 5: Maximum improvement\n",
    "> [The] updated solution is further improved not only by the previous two improvement methods, but also with two replacement method [...].\n",
    "\n",
    "The two replacement methods are the Random Replacement (D1) and the Full-Enumeration Replacement (D2) methods."
   ]
  }
 ],
 "metadata": {
  "kernelspec": {
   "display_name": "Python 3 (ipykernel)",
   "language": "python",
   "name": "python3"
  },
  "language_info": {
   "codemirror_mode": {
    "name": "ipython",
    "version": 3
   },
   "file_extension": ".py",
   "mimetype": "text/x-python",
   "name": "python",
   "nbconvert_exporter": "python",
   "pygments_lexer": "ipython3",
   "version": "3.10.8"
  }
 },
 "nbformat": 4,
 "nbformat_minor": 5
}
