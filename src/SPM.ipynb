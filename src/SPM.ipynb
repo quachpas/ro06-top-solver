{
 "cells": [
  {
   "cell_type": "markdown",
   "id": "66937553-8871-4c1f-8773-79e05c9fa889",
   "metadata": {},
   "source": [
    "# Set-Packing Model (SPM) Boussier (2007)"
   ]
  },
  {
   "cell_type": "code",
   "execution_count": 14,
   "id": "b81f3a0a-6bdf-4aeb-ab17-a6e957452e6f",
   "metadata": {},
   "outputs": [],
   "source": [
    "import pulp\n",
    "import numpy as np\n",
    "from glob import glob\n",
    "from dataclasses import dataclass"
   ]
  },
  {
   "cell_type": "code",
   "execution_count": 27,
   "id": "ff287de5-9a7d-4488-b93c-2273c1786210",
   "metadata": {},
   "outputs": [],
   "source": [
    "@dataclass\n",
    "class TestSet:\n",
    "    \"\"\"\n",
    "    Params:\n",
    "        N: number of clients\n",
    "        m: number of vehicles\n",
    "        tmax: maximum allocated time per vehicle\n",
    "        P: profit per client\n",
    "        C: travel cost (time)\n",
    "    \"\"\"\n",
    "    N: int\n",
    "    m: int\n",
    "    tmax: float\n",
    "    P: np.ndarray\n",
    "    C: np.ndarray\n",
    "    "
   ]
  },
  {
   "cell_type": "code",
   "execution_count": 12,
   "id": "5930e29a-7139-4f98-92c8-b021c3b9d4ae",
   "metadata": {},
   "outputs": [
    {
     "data": {
      "text/plain": [
       "['../ro06-projet-a22/Chao/Set_102_234',\n",
       " '../ro06-projet-a22/Chao/Set_64_234',\n",
       " '../ro06-projet-a22/Chao/Set_66_234',\n",
       " '../ro06-projet-a22/Chao/Set_100_234']"
      ]
     },
     "execution_count": 12,
     "metadata": {},
     "output_type": "execute_result"
    }
   ],
   "source": [
    "glob(\"../ro06-projet-a22/Chao/Set*\")"
   ]
  },
  {
   "cell_type": "code",
   "execution_count": 8,
   "id": "a623ef0a-b094-4421-a917-637dc8870377",
   "metadata": {},
   "outputs": [
    {
     "name": "stdout",
     "output_type": "stream",
     "text": [
      "n 100\n",
      "m 2\n",
      "tmax 25.0\n",
      "18.190\t6.320\t0\n",
      "15.520\t28.030\t7\n",
      "9.000\t28.010\t5\n",
      "16.930\t2.090\t24\n",
      "8.640\t19.850\t3\n",
      "18.430\t29.930\t23\n",
      "3.940\t10.770\t3\n",
      "14.780\t7.610\t26\n",
      "2.410\t25.060\t24\n",
      "18.410\t11.880\t16\n",
      "14.910\t17.240\t21\n",
      "7.140\t0.480\t6\n",
      "13.440\t24.760\t17\n",
      "17.540\t29.430\t27\n",
      "16.710\t9.500\t27\n",
      "12.380\t26.660\t1\n",
      "25.690\t6.340\t6\n",
      "11.620\t24.000\t27\n",
      "10.240\t3.020\t23\n",
      "3.540\t26.160\t18\n",
      "17.860\t19.360\t13\n",
      "3.770\t7.840\t1\n",
      "14.200\t19.640\t13\n",
      "15.880\t5.540\t21\n",
      "1.320\t19.320\t23\n",
      "20.500\t25.330\t16\n",
      "16.760\t19.840\t8\n",
      "27.500\t17.660\t24\n",
      "19.410\t20.670\t15\n",
      "20.490\t14.030\t24\n",
      "20.900\t7.670\t8\n",
      "2.750\t25.400\t5\n",
      "16.100\t19.740\t3\n",
      "0.430\t1.120\t9\n",
      "13.570\t9.410\t11\n",
      "0.300\t9.160\t7\n",
      "0.450\t23.350\t10\n",
      "22.690\t23.130\t13\n",
      "19.120\t20.200\t13\n",
      "7.000\t21.440\t8\n",
      "28.880\t0.860\t24\n",
      "19.600\t2.110\t14\n",
      "22.780\t15.420\t27\n",
      "13.510\t8.050\t1\n",
      "0.510\t11.060\t5\n",
      "4.310\t23.120\t20\n",
      "19.680\t25.620\t5\n",
      "16.320\t3.730\t3\n",
      "7.140\t25.900\t13\n",
      "1.040\t13.470\t6\n",
      "17.460\t2.560\t28\n",
      "23.490\t17.750\t5\n",
      "11.960\t15.150\t17\n",
      "22.850\t14.850\t2\n",
      "28.470\t6.080\t23\n",
      "6.520\t19.420\t17\n",
      "26.850\t25.820\t6\n",
      "21.480\t10.300\t21\n",
      "29.080\t2.620\t18\n",
      "22.540\t18.260\t14\n",
      "4.460\t7.850\t7\n",
      "21.610\t23.160\t4\n",
      "6.820\t21.100\t13\n",
      "6.480\t2.460\t25\n",
      "26.700\t3.440\t27\n",
      "7.030\t28.120\t1\n",
      "20.300\t3.860\t2\n",
      "17.020\t12.330\t17\n",
      "0.200\t24.800\t3\n",
      "13.970\t18.490\t4\n",
      "1.880\t3.330\t13\n",
      "14.250\t23.830\t1\n",
      "27.220\t11.980\t16\n",
      "22.050\t7.740\t10\n",
      "3.080\t21.030\t13\n",
      "12.660\t26.020\t3\n",
      "3.690\t14.330\t21\n",
      "26.930\t13.060\t24\n",
      "1.570\t19.840\t19\n",
      "19.010\t14.360\t13\n",
      "14.240\t18.800\t19\n",
      "20.490\t13.590\t8\n",
      "3.300\t17.860\t1\n",
      "28.720\t20.920\t29\n",
      "7.490\t6.590\t24\n",
      "12.190\t16.110\t1\n",
      "17.520\t0.970\t10\n",
      "10.350\t6.180\t11\n",
      "13.610\t21.120\t17\n",
      "0.260\t14.370\t13\n",
      "12.580\t26.640\t16\n",
      "21.570\t24.070\t2\n",
      "14.500\t0.300\t22\n",
      "25.600\t22.910\t2\n",
      "10.920\t4.130\t8\n",
      "26.650\t20.040\t28\n",
      "18.630\t4.300\t24\n",
      "7.290\t16.280\t12\n",
      "4.340\t9.510\t5\n",
      "2.380\t18.260\t0\n",
      "\n"
     ]
    }
   ],
   "source": [
    "with open(\"../ro06-projet-a22/Chao/Set_100_234/p4.2.a.txt\") as f:\n",
    "    print(\"\".join(f.readlines()))"
   ]
  },
  {
   "cell_type": "code",
   "execution_count": null,
   "id": "17f43728-a64e-465c-8f63-c4527c79def8",
   "metadata": {},
   "outputs": [],
   "source": []
  }
 ],
 "metadata": {
  "kernelspec": {
   "display_name": "Python 3 (ipykernel)",
   "language": "python",
   "name": "python3"
  },
  "language_info": {
   "codemirror_mode": {
    "name": "ipython",
    "version": 3
   },
   "file_extension": ".py",
   "mimetype": "text/x-python",
   "name": "python",
   "nbconvert_exporter": "python",
   "pygments_lexer": "ipython3",
   "version": "3.10.8"
  }
 },
 "nbformat": 4,
 "nbformat_minor": 5
}
