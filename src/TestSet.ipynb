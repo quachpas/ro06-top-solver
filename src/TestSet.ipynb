{
 "cells": [
  {
   "cell_type": "code",
   "execution_count": 113,
   "id": "b81f3a0a-6bdf-4aeb-ab17-a6e957452e6f",
   "metadata": {},
   "outputs": [],
   "source": [
    "import pulp\n",
    "import numpy as np\n",
    "from glob import glob\n",
    "from dataclasses import dataclass, field\n",
    "from scipy.spatial import distance\n",
    "from pathlib import Path"
   ]
  },
  {
   "cell_type": "code",
   "execution_count": 153,
   "id": "ff287de5-9a7d-4488-b93c-2273c1786210",
   "metadata": {},
   "outputs": [],
   "source": [
    "@dataclass\n",
    "class TestInstance:\n",
    "    \"\"\"\n",
    "    Params:\n",
    "        name: name of the instance\n",
    "        N: number of clients\n",
    "        m: number of vehicles\n",
    "        tmax: maximum allocated time per vehicle\n",
    "        P: profit per client\n",
    "        C: travel cost (time)\n",
    "    \"\"\"\n",
    "    name: str\n",
    "    N: int\n",
    "    m: int\n",
    "    tmax: float\n",
    "    P: np.ndarray\n",
    "    C: np.ndarray\n",
    "    \n",
    "    def __repr__(self):\n",
    "        return self.__class__.__name__ + \"(\" + \"name=%s, \" % self.name + \"N=%d, \" % self.N + \"m=%d, \" % self.m + \"tmax=%.2f, \" % self.tmax + \"P=..., C=...)\""
   ]
  },
  {
   "cell_type": "code",
   "execution_count": 154,
   "id": "a623ef0a-b094-4421-a917-637dc8870377",
   "metadata": {},
   "outputs": [],
   "source": [
    "def read_test_sets(dirpath: Path):\n",
    "    test_sets = glob(str(dirpath / \"Set*\"))\n",
    "    test_dict = {}\n",
    "    for filename in glob(str(dirpath / \"Set*/*.txt\")):\n",
    "        test_set = Path(filename).parts[-2]\n",
    "        with open(filename) as f:\n",
    "            N = int(f.readline().split(\" \")[-1])\n",
    "            m = int(f.readline().split(\" \")[-1])\n",
    "            tmax = float(f.readline().split(\" \")[-1])\n",
    "            arr = np.loadtxt(f)\n",
    "            X, P = np.split(arr, [2], axis=1)\n",
    "            C = distance.squareform(distance.pdist(X))\n",
    "        test_dict[test_set] = TestInstance(\n",
    "            name=Path(filename).stem,\n",
    "            N=N,\n",
    "            m=m,\n",
    "            tmax=tmax,\n",
    "            P=P,\n",
    "            C=C,\n",
    "        )\n",
    "        \n",
    "    return test_dict"
   ]
  },
  {
   "cell_type": "code",
   "execution_count": 155,
   "id": "43487f03-01a6-4bd1-9612-641a1375d1d8",
   "metadata": {
    "tags": []
   },
   "outputs": [],
   "source": [
    "Chao = read_test_sets(Path(\"../ro06-projet-a22/Chao/\"))"
   ]
  },
  {
   "cell_type": "code",
   "execution_count": 156,
   "id": "8859ee12-c95d-417f-8a3c-3136284b8186",
   "metadata": {},
   "outputs": [
    {
     "data": {
      "text/plain": [
       "TestInstance(name=p4.3.l, N=100, m=3, tmax=53.30, P=..., C=...)"
      ]
     },
     "execution_count": 156,
     "metadata": {},
     "output_type": "execute_result"
    }
   ],
   "source": [
    "Chao[\"Set_100_234\"]"
   ]
  }
 ],
 "metadata": {
  "kernelspec": {
   "display_name": "Python 3 (ipykernel)",
   "language": "python",
   "name": "python3"
  },
  "language_info": {
   "codemirror_mode": {
    "name": "ipython",
    "version": 3
   },
   "file_extension": ".py",
   "mimetype": "text/x-python",
   "name": "python",
   "nbconvert_exporter": "python",
   "pygments_lexer": "ipython3",
   "version": "3.10.8"
  }
 },
 "nbformat": 4,
 "nbformat_minor": 5
}
